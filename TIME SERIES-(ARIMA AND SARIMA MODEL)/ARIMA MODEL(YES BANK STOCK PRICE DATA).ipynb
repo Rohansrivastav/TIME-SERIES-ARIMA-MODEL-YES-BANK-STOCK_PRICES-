{
 "cells": [
  {
   "cell_type": "markdown",
   "metadata": {},
   "source": [
    "#THE DATASET IS TAKEN FROM KAGGLE, ITS A DATASET FROM YESBANK WHERE INFORMATION ABOUT ITS STOCKPRICE IS GIVEN, WE ARE GOING TO MAKE ARIMA TIME SERIES MODEL WHICH WILL PREDICT THE CLOSING VALUE WITH TIME"
   ]
  },
  {
   "cell_type": "code",
   "execution_count": 1,
   "metadata": {},
   "outputs": [],
   "source": [
    "\n",
    "import pandas as pd\n",
    "df=pd.read_csv('YesBank_StockPrices.csv')\n",
    "df.head()\n",
    "import warnings\n",
    "warnings.filterwarnings('ignore')"
   ]
  },
  {
   "cell_type": "code",
   "execution_count": 2,
   "metadata": {},
   "outputs": [],
   "source": [
    "columns=['Open','High','Low']\n",
    "df=df.drop(columns,axis=1)"
   ]
  },
  {
   "cell_type": "code",
   "execution_count": 3,
   "metadata": {},
   "outputs": [
    {
     "data": {
      "text/html": [
       "<div>\n",
       "<style scoped>\n",
       "    .dataframe tbody tr th:only-of-type {\n",
       "        vertical-align: middle;\n",
       "    }\n",
       "\n",
       "    .dataframe tbody tr th {\n",
       "        vertical-align: top;\n",
       "    }\n",
       "\n",
       "    .dataframe thead th {\n",
       "        text-align: right;\n",
       "    }\n",
       "</style>\n",
       "<table border=\"1\" class=\"dataframe\">\n",
       "  <thead>\n",
       "    <tr style=\"text-align: right;\">\n",
       "      <th></th>\n",
       "      <th>Date</th>\n",
       "      <th>Close</th>\n",
       "    </tr>\n",
       "  </thead>\n",
       "  <tbody>\n",
       "    <tr>\n",
       "      <th>180</th>\n",
       "      <td>Jul-20</td>\n",
       "      <td>11.95</td>\n",
       "    </tr>\n",
       "    <tr>\n",
       "      <th>181</th>\n",
       "      <td>Aug-20</td>\n",
       "      <td>14.37</td>\n",
       "    </tr>\n",
       "    <tr>\n",
       "      <th>182</th>\n",
       "      <td>Sep-20</td>\n",
       "      <td>13.15</td>\n",
       "    </tr>\n",
       "    <tr>\n",
       "      <th>183</th>\n",
       "      <td>Oct-20</td>\n",
       "      <td>12.42</td>\n",
       "    </tr>\n",
       "    <tr>\n",
       "      <th>184</th>\n",
       "      <td>Nov-20</td>\n",
       "      <td>14.67</td>\n",
       "    </tr>\n",
       "  </tbody>\n",
       "</table>\n",
       "</div>"
      ],
      "text/plain": [
       "       Date  Close\n",
       "180  Jul-20  11.95\n",
       "181  Aug-20  14.37\n",
       "182  Sep-20  13.15\n",
       "183  Oct-20  12.42\n",
       "184  Nov-20  14.67"
      ]
     },
     "execution_count": 3,
     "metadata": {},
     "output_type": "execute_result"
    }
   ],
   "source": [
    "df.tail()"
   ]
  },
  {
   "cell_type": "markdown",
   "metadata": {},
   "source": [
    "##CONVERTING THE DATE IN A PROPER DATE TIME FORMAT USING DATETIME.STRPTIME "
   ]
  },
  {
   "cell_type": "code",
   "execution_count": 4,
   "metadata": {},
   "outputs": [],
   "source": [
    "from datetime import datetime\n",
    "df['Date'] = df['Date'].apply(lambda x: datetime.strptime(x, '%b-%y'))"
   ]
  },
  {
   "cell_type": "code",
   "execution_count": 5,
   "metadata": {},
   "outputs": [],
   "source": [
    "df.set_index('Date',inplace=True)"
   ]
  },
  {
   "cell_type": "code",
   "execution_count": 6,
   "metadata": {},
   "outputs": [
    {
     "data": {
      "text/html": [
       "<div>\n",
       "<style scoped>\n",
       "    .dataframe tbody tr th:only-of-type {\n",
       "        vertical-align: middle;\n",
       "    }\n",
       "\n",
       "    .dataframe tbody tr th {\n",
       "        vertical-align: top;\n",
       "    }\n",
       "\n",
       "    .dataframe thead th {\n",
       "        text-align: right;\n",
       "    }\n",
       "</style>\n",
       "<table border=\"1\" class=\"dataframe\">\n",
       "  <thead>\n",
       "    <tr style=\"text-align: right;\">\n",
       "      <th></th>\n",
       "      <th>Close</th>\n",
       "    </tr>\n",
       "    <tr>\n",
       "      <th>Date</th>\n",
       "      <th></th>\n",
       "    </tr>\n",
       "  </thead>\n",
       "  <tbody>\n",
       "    <tr>\n",
       "      <th>2005-07-01</th>\n",
       "      <td>12.46</td>\n",
       "    </tr>\n",
       "    <tr>\n",
       "      <th>2005-08-01</th>\n",
       "      <td>13.42</td>\n",
       "    </tr>\n",
       "    <tr>\n",
       "      <th>2005-09-01</th>\n",
       "      <td>13.30</td>\n",
       "    </tr>\n",
       "    <tr>\n",
       "      <th>2005-10-01</th>\n",
       "      <td>12.99</td>\n",
       "    </tr>\n",
       "    <tr>\n",
       "      <th>2005-11-01</th>\n",
       "      <td>13.41</td>\n",
       "    </tr>\n",
       "  </tbody>\n",
       "</table>\n",
       "</div>"
      ],
      "text/plain": [
       "            Close\n",
       "Date             \n",
       "2005-07-01  12.46\n",
       "2005-08-01  13.42\n",
       "2005-09-01  13.30\n",
       "2005-10-01  12.99\n",
       "2005-11-01  13.41"
      ]
     },
     "execution_count": 6,
     "metadata": {},
     "output_type": "execute_result"
    }
   ],
   "source": [
    "df.head()"
   ]
  },
  {
   "cell_type": "markdown",
   "metadata": {},
   "source": [
    "##VISUALIZING THE DATA"
   ]
  },
  {
   "cell_type": "code",
   "execution_count": 7,
   "metadata": {},
   "outputs": [
    {
     "data": {
      "text/plain": [
       "<AxesSubplot:xlabel='Date'>"
      ]
     },
     "execution_count": 7,
     "metadata": {},
     "output_type": "execute_result"
    },
    {
     "data": {
      "image/png": "[encoded data removed]",
      "text/plain": [
       "<Figure size 432x288 with 1 Axes>"
      ]
     },
     "metadata": {
      "needs_background": "light"
     },
     "output_type": "display_data"
    }
   ],
   "source": [
    "import matplotlib.pyplot as plt\n",
    "df.plot()"
   ]
  },
  {
   "cell_type": "markdown",
   "metadata": {},
   "source": [
    "#ITS A NON SEASONAL DATASET AS THE GRAPH IS NOT REPEATING AFTER A PARTICULAR TIME , HENCE WE CAN MAKE A  ARIMA MODEL"
   ]
  },
  {
   "cell_type": "markdown",
   "metadata": {},
   "source": [
    "##CHECKING FOR STATIONARITY"
   ]
  },
  {
   "cell_type": "code",
   "execution_count": 8,
   "metadata": {},
   "outputs": [],
   "source": [
    "from statsmodels.tsa.stattools import adfuller\n",
    "def ad_fuller_test(close):\n",
    "    result=adfuller(close)\n",
    "    labels=['Test statistics','p-value','lags_used','number of observations']\n",
    "    for value,label in zip(result,labels):\n",
    "        print(label+' : '+str(value))\n",
    "    if result[1]<=0.05:\n",
    "        print(\"stationary\")\n",
    "    else:\n",
    "        print(\"non stationary\")"
   ]
  },
  {
   "cell_type": "code",
   "execution_count": 9,
   "metadata": {},
   "outputs": [
    {
     "name": "stdout",
     "output_type": "stream",
     "text": [
      "Test statistics : -1.9064091411726556\n",
      "p-value : 0.32905208150044\n",
      "lags_used : 14\n",
      "number of observations : 170\n",
      "non stationary\n"
     ]
    }
   ],
   "source": [
    "ad_fuller_test(df['Close'])"
   ]
  },
  {
   "cell_type": "markdown",
   "metadata": {},
   "source": [
    "#CONVERTING TO STATIONARY"
   ]
  },
  {
   "cell_type": "markdown",
   "metadata": {},
   "source": [
    "##DIFFERENCING"
   ]
  },
  {
   "cell_type": "code",
   "execution_count": 10,
   "metadata": {},
   "outputs": [],
   "source": [
    "df['Seasonal_First_Diff']=df['Close']-df['Close'].shift(1)"
   ]
  },
  {
   "cell_type": "code",
   "execution_count": 11,
   "metadata": {},
   "outputs": [
    {
     "data": {
      "text/html": [
       "<div>\n",
       "<style scoped>\n",
       "    .dataframe tbody tr th:only-of-type {\n",
       "        vertical-align: middle;\n",
       "    }\n",
       "\n",
       "    .dataframe tbody tr th {\n",
       "        vertical-align: top;\n",
       "    }\n",
       "\n",
       "    .dataframe thead th {\n",
       "        text-align: right;\n",
       "    }\n",
       "</style>\n",
       "<table border=\"1\" class=\"dataframe\">\n",
       "  <thead>\n",
       "    <tr style=\"text-align: right;\">\n",
       "      <th></th>\n",
       "      <th>Close</th>\n",
       "      <th>Seasonal_First_Diff</th>\n",
       "    </tr>\n",
       "    <tr>\n",
       "      <th>Date</th>\n",
       "      <th></th>\n",
       "      <th></th>\n",
       "    </tr>\n",
       "  </thead>\n",
       "  <tbody>\n",
       "    <tr>\n",
       "      <th>2005-07-01</th>\n",
       "      <td>12.46</td>\n",
       "      <td>NaN</td>\n",
       "    </tr>\n",
       "    <tr>\n",
       "      <th>2005-08-01</th>\n",
       "      <td>13.42</td>\n",
       "      <td>0.96</td>\n",
       "    </tr>\n",
       "    <tr>\n",
       "      <th>2005-09-01</th>\n",
       "      <td>13.30</td>\n",
       "      <td>-0.12</td>\n",
       "    </tr>\n",
       "    <tr>\n",
       "      <th>2005-10-01</th>\n",
       "      <td>12.99</td>\n",
       "      <td>-0.31</td>\n",
       "    </tr>\n",
       "    <tr>\n",
       "      <th>2005-11-01</th>\n",
       "      <td>13.41</td>\n",
       "      <td>0.42</td>\n",
       "    </tr>\n",
       "    <tr>\n",
       "      <th>2005-12-01</th>\n",
       "      <td>13.71</td>\n",
       "      <td>0.30</td>\n",
       "    </tr>\n",
       "    <tr>\n",
       "      <th>2006-01-01</th>\n",
       "      <td>15.33</td>\n",
       "      <td>1.62</td>\n",
       "    </tr>\n",
       "    <tr>\n",
       "      <th>2006-02-01</th>\n",
       "      <td>16.12</td>\n",
       "      <td>0.79</td>\n",
       "    </tr>\n",
       "    <tr>\n",
       "      <th>2006-03-01</th>\n",
       "      <td>20.08</td>\n",
       "      <td>3.96</td>\n",
       "    </tr>\n",
       "    <tr>\n",
       "      <th>2006-04-01</th>\n",
       "      <td>19.49</td>\n",
       "      <td>-0.59</td>\n",
       "    </tr>\n",
       "    <tr>\n",
       "      <th>2006-05-01</th>\n",
       "      <td>18.03</td>\n",
       "      <td>-1.46</td>\n",
       "    </tr>\n",
       "    <tr>\n",
       "      <th>2006-06-01</th>\n",
       "      <td>15.62</td>\n",
       "      <td>-2.41</td>\n",
       "    </tr>\n",
       "    <tr>\n",
       "      <th>2006-07-01</th>\n",
       "      <td>16.16</td>\n",
       "      <td>0.54</td>\n",
       "    </tr>\n",
       "    <tr>\n",
       "      <th>2006-08-01</th>\n",
       "      <td>17.84</td>\n",
       "      <td>1.68</td>\n",
       "    </tr>\n",
       "    <tr>\n",
       "      <th>2006-09-01</th>\n",
       "      <td>18.46</td>\n",
       "      <td>0.62</td>\n",
       "    </tr>\n",
       "  </tbody>\n",
       "</table>\n",
       "</div>"
      ],
      "text/plain": [
       "            Close  Seasonal_First_Diff\n",
       "Date                                  \n",
       "2005-07-01  12.46                  NaN\n",
       "2005-08-01  13.42                 0.96\n",
       "2005-09-01  13.30                -0.12\n",
       "2005-10-01  12.99                -0.31\n",
       "2005-11-01  13.41                 0.42\n",
       "2005-12-01  13.71                 0.30\n",
       "2006-01-01  15.33                 1.62\n",
       "2006-02-01  16.12                 0.79\n",
       "2006-03-01  20.08                 3.96\n",
       "2006-04-01  19.49                -0.59\n",
       "2006-05-01  18.03                -1.46\n",
       "2006-06-01  15.62                -2.41\n",
       "2006-07-01  16.16                 0.54\n",
       "2006-08-01  17.84                 1.68\n",
       "2006-09-01  18.46                 0.62"
      ]
     },
     "execution_count": 11,
     "metadata": {},
     "output_type": "execute_result"
    }
   ],
   "source": [
    "df.head(15)"
   ]
  },
  {
   "cell_type": "code",
   "execution_count": 12,
   "metadata": {},
   "outputs": [
    {
     "name": "stdout",
     "output_type": "stream",
     "text": [
      "Test statistics : -2.0566081474846993\n",
      "p-value : 0.2623166235310913\n",
      "lags_used : 14\n",
      "number of observations : 169\n",
      "non stationary\n"
     ]
    }
   ],
   "source": [
    "ad_fuller_test(df['Seasonal_First_Diff'].dropna())"
   ]
  },
  {
   "cell_type": "code",
   "execution_count": 13,
   "metadata": {},
   "outputs": [
    {
     "name": "stdout",
     "output_type": "stream",
     "text": [
      "Test statistics : -6.058351845983153\n",
      "p-value : 1.2295785955119713e-07\n",
      "lags_used : 13\n",
      "number of observations : 169\n",
      "stationary\n"
     ]
    }
   ],
   "source": [
    "df['Seasonal_2_Diff']=df['Seasonal_First_Diff']-df['Seasonal_First_Diff'].shift(1)\n",
    "ad_fuller_test(df['Seasonal_2_Diff'].dropna())"
   ]
  },
  {
   "cell_type": "markdown",
   "metadata": {},
   "source": [
    "##NOW THE DATASET HAS BEEN MADE STATIONARY I.E IT HAS A FIXED MOVING MEAN AND VARIANCE , NOW WE CAN APPLY ARIMA MODEL TO IT"
   ]
  },
  {
   "cell_type": "code",
   "execution_count": 14,
   "metadata": {},
   "outputs": [
    {
     "data": {
      "text/plain": [
       "<AxesSubplot:xlabel='Date'>"
      ]
     },
     "execution_count": 14,
     "metadata": {},
     "output_type": "execute_result"
    },
    {
     "data": {
      "image/png": "[encoded data removed]",
      "text/plain": [
       "<Figure size 432x288 with 1 Axes>"
      ]
     },
     "metadata": {
      "needs_background": "light"
     },
     "output_type": "display_data"
    }
   ],
   "source": [
    "df['Seasonal_2_Diff'].plot()"
   ]
  },
  {
   "cell_type": "markdown",
   "metadata": {},
   "source": [
    "\n",
    "ARIMA stands for Autoregressive Integrated Moving Average Model. It belongs to a class of models that explains a given time series based on its own past values -i.e.- its own lags and the lagged forecast errors. The equation can be used to forecast future values. Any ‘non-seasonal’ time series that exhibits patterns and is not a random white noise can be modeled with ARIMA models.\n",
    "So, ARIMA, short for AutoRegressive Integrated Moving Average, is a forecasting algorithm based on the idea that the information in the past values of the time series can alone be used to predict the future values.\n",
    "ARIMA Models are specified by three order parameters: (p, d, q),\n",
    "\n",
    "where,\n",
    "\n",
    "p is the order of the AR term(number of lags used as predictors)\n",
    "\n",
    "q is the order of the MA term(number of lagged forecast errors)\n",
    "\n",
    "d is the number of differencing required to make the time series stationary"
   ]
  },
  {
   "cell_type": "markdown",
   "metadata": {},
   "source": [
    " #AR model\n",
    "An Auto Regressive (AR) model is one where Yt depends only on its own lags.\n",
    "\n",
    "That is, Yt is a function of the lags of Yt. It is depicted by the following equation -\n",
    "yt=c+ϕ1yt−1+ϕ2yt−2+⋯+ϕpyt−p+εt, y t = c + ϕ 1 y t − 1 + ϕ 2 y t − 2 + ⋯ + ϕ p y t − p + ε t , where εt is white noise.\n",
    "\n",
    "ϕ->coefficient of lags estimated ny the model\n",
    "\n",
    "c->intercept term also estimated by the model\n",
    "\n",
    "yt−p->lags\n",
    "\n",
    "#MA model\n",
    "\n",
    "Likewise a Moving Average (MA) model is one where Yt depends only on the lagged forecast errors. It is depicted\n",
    "by the following equation -\n",
    "yt=c+εt+θ1εt−1+θ2εt−2+⋯+θqεt−q, y t = c + ε t + θ 1 ε t − 1 + θ 2 ε t − 2 + ⋯ + θ q ε t − q , where εt is white noise.\n",
    "\n",
    "ϕ->coefficient of forecast errors estimated ny the model\n",
    "\n",
    "c->intercept term also estimated by the model\n",
    "\n",
    "yt−n->forecast errors\n",
    "\n",
    "\n",
    "#An ARIMA model is one where the time series was differenced at least once to make it stationary and we combine the AR \n",
    "and the MA terms. So the equation of an ARIMA model becomes :\n",
    "    \n",
    "yt=c+ϕ1yt−1+ϕ2yt−2+⋯+ϕpyt−p+εt, y t = c + ϕ 1 y t − 1 + ϕ 2 y t − 2 + ⋯ + ϕ p y t − p+θ1εt−1+θ2εt−2+⋯+θqεt−q\n",
    "\n"
   ]
  },
  {
   "cell_type": "markdown",
   "metadata": {},
   "source": [
    "#INORDER TO FIND P,D,Q VALUE WE WILL PLOT A CORRELATION AND A PARTIAL AUTOCORRELATION GRAPH"
   ]
  },
  {
   "cell_type": "code",
   "execution_count": 15,
   "metadata": {},
   "outputs": [
    {
     "data": {
      "image/png": "[encoded data removed]",
      "text/plain": [
       "<Figure size 864x576 with 2 Axes>"
      ]
     },
     "metadata": {
      "needs_background": "light"
     },
     "output_type": "display_data"
    }
   ],
   "source": [
    "from statsmodels.graphics.tsaplots import plot_acf,plot_pacf\n",
    "fig = plt.figure(figsize=(12,8))\n",
    "ax1 = fig.add_subplot(211)\n",
    "fig=plot_acf(df['Seasonal_2_Diff'].iloc[2:],ax=ax1)\n",
    "ax2=ax1 = fig.add_subplot(212)\n",
    "fig=plot_pacf(df['Seasonal_2_Diff'].iloc[2:],ax=ax2)"
   ]
  },
  {
   "cell_type": "code",
   "execution_count": 50,
   "metadata": {},
   "outputs": [
    {
     "name": "stderr",
     "output_type": "stream",
     "text": [
      "C:\\Users\\91763\\anaconda3\\lib\\site-packages\\statsmodels\\tsa\\base\\tsa_model.py:524: ValueWarning: No frequency information was provided, so inferred frequency MS will be used.\n",
      "  warnings.warn('No frequency information was'\n",
      "C:\\Users\\91763\\anaconda3\\lib\\site-packages\\statsmodels\\tsa\\base\\tsa_model.py:524: ValueWarning: No frequency information was provided, so inferred frequency MS will be used.\n",
      "  warnings.warn('No frequency information was'\n",
      "C:\\Users\\91763\\anaconda3\\lib\\site-packages\\statsmodels\\base\\model.py:547: HessianInversionWarning: Inverting hessian failed, no bse or cov_params available\n",
      "  warnings.warn('Inverting hessian failed, no bse or cov_params '\n"
     ]
    },
    {
     "data": {
      "text/html": [
       "<table class=\"simpletable\">\n",
       "<caption>ARIMA Model Results</caption>\n",
       "<tr>\n",
       "  <th>Dep. Variable:</th>     <td>D2.Close</td>     <th>  No. Observations:  </th>    <td>183</td>  \n",
       "</tr>\n",
       "<tr>\n",
       "  <th>Model:</th>          <td>ARIMA(5, 2, 7)</td>  <th>  Log Likelihood     </th> <td>-797.603</td>\n",
       "</tr>\n",
       "<tr>\n",
       "  <th>Method:</th>             <td>css-mle</td>     <th>  S.D. of innovations</th>  <td>18.162</td> \n",
       "</tr>\n",
       "<tr>\n",
       "  <th>Date:</th>          <td>Mon, 20 Sep 2021</td> <th>  AIC                </th> <td>1623.205</td>\n",
       "</tr>\n",
       "<tr>\n",
       "  <th>Time:</th>              <td>00:06:30</td>     <th>  BIC                </th> <td>1668.138</td>\n",
       "</tr>\n",
       "<tr>\n",
       "  <th>Sample:</th>           <td>09-01-2005</td>    <th>  HQIC               </th> <td>1641.419</td>\n",
       "</tr>\n",
       "<tr>\n",
       "  <th></th>                 <td>- 11-01-2020</td>   <th>                     </th>     <td> </td>   \n",
       "</tr>\n",
       "</table>\n",
       "<table class=\"simpletable\">\n",
       "<tr>\n",
       "         <td></td>           <th>coef</th>     <th>std err</th>      <th>z</th>      <th>P>|z|</th>  <th>[0.025</th>    <th>0.975]</th>  \n",
       "</tr>\n",
       "<tr>\n",
       "  <th>const</th>          <td>   -0.0318</td> <td>    0.029</td> <td>   -1.107</td> <td> 0.268</td> <td>   -0.088</td> <td>    0.024</td>\n",
       "</tr>\n",
       "<tr>\n",
       "  <th>ar.L1.D2.Close</th> <td>   -1.7430</td> <td>    0.147</td> <td>  -11.870</td> <td> 0.000</td> <td>   -2.031</td> <td>   -1.455</td>\n",
       "</tr>\n",
       "<tr>\n",
       "  <th>ar.L2.D2.Close</th> <td>   -2.3119</td> <td>    0.230</td> <td>  -10.060</td> <td> 0.000</td> <td>   -2.762</td> <td>   -1.861</td>\n",
       "</tr>\n",
       "<tr>\n",
       "  <th>ar.L3.D2.Close</th> <td>   -2.0200</td> <td>    0.283</td> <td>   -7.148</td> <td> 0.000</td> <td>   -2.574</td> <td>   -1.466</td>\n",
       "</tr>\n",
       "<tr>\n",
       "  <th>ar.L4.D2.Close</th> <td>   -1.3233</td> <td>    0.191</td> <td>   -6.938</td> <td> 0.000</td> <td>   -1.697</td> <td>   -0.949</td>\n",
       "</tr>\n",
       "<tr>\n",
       "  <th>ar.L5.D2.Close</th> <td>   -0.5165</td> <td>    0.106</td> <td>   -4.882</td> <td> 0.000</td> <td>   -0.724</td> <td>   -0.309</td>\n",
       "</tr>\n",
       "<tr>\n",
       "  <th>ma.L1.D2.Close</th> <td>    0.8876</td> <td>    0.168</td> <td>    5.284</td> <td> 0.000</td> <td>    0.558</td> <td>    1.217</td>\n",
       "</tr>\n",
       "<tr>\n",
       "  <th>ma.L2.D2.Close</th> <td>    0.6682</td> <td>    0.164</td> <td>    4.086</td> <td> 0.000</td> <td>    0.348</td> <td>    0.989</td>\n",
       "</tr>\n",
       "<tr>\n",
       "  <th>ma.L3.D2.Close</th> <td>   -0.1321</td> <td>    0.137</td> <td>   -0.968</td> <td> 0.333</td> <td>   -0.400</td> <td>    0.135</td>\n",
       "</tr>\n",
       "<tr>\n",
       "  <th>ma.L4.D2.Close</th> <td>   -0.7386</td> <td>    0.078</td> <td>   -9.510</td> <td> 0.000</td> <td>   -0.891</td> <td>   -0.586</td>\n",
       "</tr>\n",
       "<tr>\n",
       "  <th>ma.L5.D2.Close</th> <td>   -0.9722</td> <td>    0.122</td> <td>   -7.968</td> <td> 0.000</td> <td>   -1.211</td> <td>   -0.733</td>\n",
       "</tr>\n",
       "<tr>\n",
       "  <th>ma.L6.D2.Close</th> <td>   -0.8203</td> <td>    0.166</td> <td>   -4.947</td> <td> 0.000</td> <td>   -1.145</td> <td>   -0.495</td>\n",
       "</tr>\n",
       "<tr>\n",
       "  <th>ma.L7.D2.Close</th> <td>    0.1075</td> <td>    0.138</td> <td>    0.781</td> <td> 0.435</td> <td>   -0.162</td> <td>    0.377</td>\n",
       "</tr>\n",
       "</table>\n",
       "<table class=\"simpletable\">\n",
       "<caption>Roots</caption>\n",
       "<tr>\n",
       "    <td></td>   <th>            Real</th>  <th>         Imaginary</th> <th>         Modulus</th>  <th>        Frequency</th>\n",
       "</tr>\n",
       "<tr>\n",
       "  <th>AR.1</th> <td>           0.0512</td> <td>          -1.0846j</td> <td>           1.0858</td> <td>          -0.2425</td>\n",
       "</tr>\n",
       "<tr>\n",
       "  <th>AR.2</th> <td>           0.0512</td> <td>          +1.0846j</td> <td>           1.0858</td> <td>           0.2425</td>\n",
       "</tr>\n",
       "<tr>\n",
       "  <th>AR.3</th> <td>          -0.6647</td> <td>          -0.8878j</td> <td>           1.1090</td> <td>          -0.3523</td>\n",
       "</tr>\n",
       "<tr>\n",
       "  <th>AR.4</th> <td>          -0.6647</td> <td>          +0.8878j</td> <td>           1.1090</td> <td>           0.3523</td>\n",
       "</tr>\n",
       "<tr>\n",
       "  <th>AR.5</th> <td>          -1.3351</td> <td>          -0.0000j</td> <td>           1.3351</td> <td>          -0.5000</td>\n",
       "</tr>\n",
       "<tr>\n",
       "  <th>MA.1</th> <td>          -1.0626</td> <td>          -0.0000j</td> <td>           1.0626</td> <td>          -0.5000</td>\n",
       "</tr>\n",
       "<tr>\n",
       "  <th>MA.2</th> <td>          -0.6170</td> <td>          -0.7870j</td> <td>           1.0000</td> <td>          -0.3558</td>\n",
       "</tr>\n",
       "<tr>\n",
       "  <th>MA.3</th> <td>          -0.6170</td> <td>          +0.7870j</td> <td>           1.0000</td> <td>           0.3558</td>\n",
       "</tr>\n",
       "<tr>\n",
       "  <th>MA.4</th> <td>           0.0866</td> <td>          -0.9962j</td> <td>           1.0000</td> <td>          -0.2362</td>\n",
       "</tr>\n",
       "<tr>\n",
       "  <th>MA.5</th> <td>           0.0866</td> <td>          +0.9962j</td> <td>           1.0000</td> <td>           0.2362</td>\n",
       "</tr>\n",
       "<tr>\n",
       "  <th>MA.6</th> <td>           1.0000</td> <td>          -0.0000j</td> <td>           1.0000</td> <td>          -0.0000</td>\n",
       "</tr>\n",
       "<tr>\n",
       "  <th>MA.7</th> <td>           8.7539</td> <td>          -0.0000j</td> <td>           8.7539</td> <td>          -0.0000</td>\n",
       "</tr>\n",
       "</table>"
      ],
      "text/plain": [
       "<class 'statsmodels.iolib.summary.Summary'>\n",
       "\"\"\"\n",
       "                             ARIMA Model Results                              \n",
       "==============================================================================\n",
       "Dep. Variable:               D2.Close   No. Observations:                  183\n",
       "Model:                 ARIMA(5, 2, 7)   Log Likelihood                -797.603\n",
       "Method:                       css-mle   S.D. of innovations             18.162\n",
       "Date:                Mon, 20 Sep 2021   AIC                           1623.205\n",
       "Time:                        00:06:30   BIC                           1668.138\n",
       "Sample:                    09-01-2005   HQIC                          1641.419\n",
       "                         - 11-01-2020                                         \n",
       "==================================================================================\n",
       "                     coef    std err          z      P>|z|      [0.025      0.975]\n",
       "----------------------------------------------------------------------------------\n",
       "const             -0.0318      0.029     -1.107      0.268      -0.088       0.024\n",
       "ar.L1.D2.Close    -1.7430      0.147    -11.870      0.000      -2.031      -1.455\n",
       "ar.L2.D2.Close    -2.3119      0.230    -10.060      0.000      -2.762      -1.861\n",
       "ar.L3.D2.Close    -2.0200      0.283     -7.148      0.000      -2.574      -1.466\n",
       "ar.L4.D2.Close    -1.3233      0.191     -6.938      0.000      -1.697      -0.949\n",
       "ar.L5.D2.Close    -0.5165      0.106     -4.882      0.000      -0.724      -0.309\n",
       "ma.L1.D2.Close     0.8876      0.168      5.284      0.000       0.558       1.217\n",
       "ma.L2.D2.Close     0.6682      0.164      4.086      0.000       0.348       0.989\n",
       "ma.L3.D2.Close    -0.1321      0.137     -0.968      0.333      -0.400       0.135\n",
       "ma.L4.D2.Close    -0.7386      0.078     -9.510      0.000      -0.891      -0.586\n",
       "ma.L5.D2.Close    -0.9722      0.122     -7.968      0.000      -1.211      -0.733\n",
       "ma.L6.D2.Close    -0.8203      0.166     -4.947      0.000      -1.145      -0.495\n",
       "ma.L7.D2.Close     0.1075      0.138      0.781      0.435      -0.162       0.377\n",
       "                                    Roots                                    \n",
       "=============================================================================\n",
       "                  Real          Imaginary           Modulus         Frequency\n",
       "-----------------------------------------------------------------------------\n",
       "AR.1            0.0512           -1.0846j            1.0858           -0.2425\n",
       "AR.2            0.0512           +1.0846j            1.0858            0.2425\n",
       "AR.3           -0.6647           -0.8878j            1.1090           -0.3523\n",
       "AR.4           -0.6647           +0.8878j            1.1090            0.3523\n",
       "AR.5           -1.3351           -0.0000j            1.3351           -0.5000\n",
       "MA.1           -1.0626           -0.0000j            1.0626           -0.5000\n",
       "MA.2           -0.6170           -0.7870j            1.0000           -0.3558\n",
       "MA.3           -0.6170           +0.7870j            1.0000            0.3558\n",
       "MA.4            0.0866           -0.9962j            1.0000           -0.2362\n",
       "MA.5            0.0866           +0.9962j            1.0000            0.2362\n",
       "MA.6            1.0000           -0.0000j            1.0000           -0.0000\n",
       "MA.7            8.7539           -0.0000j            8.7539           -0.0000\n",
       "-----------------------------------------------------------------------------\n",
       "\"\"\""
      ]
     },
     "execution_count": 50,
     "metadata": {},
     "output_type": "execute_result"
    }
   ],
   "source": [
    "from statsmodels.tsa.arima_model import ARIMA\n",
    "model=ARIMA(df['Close'],order=(5,2,7))\n",
    "model_fit=model.fit()\n",
    "\n",
    "model_fit.summary()"
   ]
  },
  {
   "cell_type": "code",
   "execution_count": 51,
   "metadata": {},
   "outputs": [
    {
     "data": {
      "text/plain": [
       "<AxesSubplot:xlabel='Date'>"
      ]
     },
     "execution_count": 51,
     "metadata": {},
     "output_type": "execute_result"
    },
    {
     "data": {
      "image/png": "[encoded data removed]",
      "text/plain": [
       "<Figure size 864x576 with 1 Axes>"
      ]
     },
     "metadata": {
      "needs_background": "light"
     },
     "output_type": "display_data"
    }
   ],
   "source": [
    "df['forecast']=model_fit.predict(start=170,end=180,dynamic=True)\n",
    "df[['Close','forecast']].plot(figsize=(12,8))"
   ]
  },
  {
   "cell_type": "code",
   "execution_count": null,
   "metadata": {},
   "outputs": [],
   "source": []
  },
  {
   "cell_type": "code",
   "execution_count": null,
   "metadata": {},
   "outputs": [],
   "source": []
  }
 ],
 "metadata": {
  "kernelspec": {
   "display_name": "Python 3",
   "language": "python",
   "name": "python3"
  },
  "language_info": {
   "codemirror_mode": {
    "name": "ipython",
    "version": 3
   },
   "file_extension": ".py",
   "mimetype": "text/x-python",
   "name": "python",
   "nbconvert_exporter": "python",
   "pygments_lexer": "ipython3",
   "version": "3.8.5"
  }
 },
 "nbformat": 4,
 "nbformat_minor": 4
}
